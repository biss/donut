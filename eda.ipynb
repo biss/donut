{
 "cells": [
  {
   "cell_type": "code",
   "execution_count": 16,
   "metadata": {},
   "outputs": [],
   "source": [
    "import pandas as pd\n",
    "import numpy as np\n",
    "import matplotlib.pyplot as plt"
   ]
  },
  {
   "cell_type": "code",
   "execution_count": 41,
   "metadata": {},
   "outputs": [],
   "source": [
    "train = pd.read_csv(\"train.csv\")\n",
    "test = pd.read_csv(\"test.csv\")"
   ]
  },
  {
   "cell_type": "code",
   "execution_count": 40,
   "metadata": {},
   "outputs": [
    {
     "data": {
      "text/html": [
       "<div>\n",
       "<style scoped>\n",
       "    .dataframe tbody tr th:only-of-type {\n",
       "        vertical-align: middle;\n",
       "    }\n",
       "\n",
       "    .dataframe tbody tr th {\n",
       "        vertical-align: top;\n",
       "    }\n",
       "\n",
       "    .dataframe thead th {\n",
       "        text-align: right;\n",
       "    }\n",
       "</style>\n",
       "<table border=\"1\" class=\"dataframe\">\n",
       "  <thead>\n",
       "    <tr style=\"text-align: right;\">\n",
       "      <th></th>\n",
       "      <th>Donut Estimator 1</th>\n",
       "      <th>Donut Area of cross section</th>\n",
       "      <th>Donut Area of circumference circle</th>\n",
       "      <th>Donut area of central hole / Donut Area of circumscribed circle</th>\n",
       "      <th>Donut  Estimator 2</th>\n",
       "      <th>Donut  Estimator 3</th>\n",
       "      <th>Donut  Estimator 4</th>\n",
       "      <th>Donut  Estimator 5</th>\n",
       "      <th>Donut volume Estimator 6</th>\n",
       "      <th>Location</th>\n",
       "      <th>Donut Density</th>\n",
       "      <th>Donut volume</th>\n",
       "    </tr>\n",
       "  </thead>\n",
       "  <tbody>\n",
       "    <tr>\n",
       "      <th>0</th>\n",
       "      <td>317.61</td>\n",
       "      <td>496.27</td>\n",
       "      <td>682.80</td>\n",
       "      <td>0.27</td>\n",
       "      <td>818.25</td>\n",
       "      <td>788.89</td>\n",
       "      <td>567.20</td>\n",
       "      <td>557.68</td>\n",
       "      <td>579.17</td>\n",
       "      <td>Mumbai</td>\n",
       "      <td>14.3</td>\n",
       "      <td>52.1</td>\n",
       "    </tr>\n",
       "    <tr>\n",
       "      <th>1</th>\n",
       "      <td>315.19</td>\n",
       "      <td>538.85</td>\n",
       "      <td>645.77</td>\n",
       "      <td>0.17</td>\n",
       "      <td>800.65</td>\n",
       "      <td>798.97</td>\n",
       "      <td>560.37</td>\n",
       "      <td>561.20</td>\n",
       "      <td>577.59</td>\n",
       "      <td>Mumbai</td>\n",
       "      <td>15.8</td>\n",
       "      <td>54.2</td>\n",
       "    </tr>\n",
       "    <tr>\n",
       "      <th>2</th>\n",
       "      <td>317.44</td>\n",
       "      <td>514.24</td>\n",
       "      <td>661.30</td>\n",
       "      <td>0.22</td>\n",
       "      <td>795.79</td>\n",
       "      <td>801.74</td>\n",
       "      <td>579.30</td>\n",
       "      <td>584.34</td>\n",
       "      <td>575.06</td>\n",
       "      <td>Mumbai</td>\n",
       "      <td>16.3</td>\n",
       "      <td>54.8</td>\n",
       "    </tr>\n",
       "    <tr>\n",
       "      <th>3</th>\n",
       "      <td>336.62</td>\n",
       "      <td>562.98</td>\n",
       "      <td>709.35</td>\n",
       "      <td>0.20</td>\n",
       "      <td>888.29</td>\n",
       "      <td>862.33</td>\n",
       "      <td>596.66</td>\n",
       "      <td>588.34</td>\n",
       "      <td>629.96</td>\n",
       "      <td>Mumbai</td>\n",
       "      <td>16.6</td>\n",
       "      <td>56.6</td>\n",
       "    </tr>\n",
       "    <tr>\n",
       "      <th>4</th>\n",
       "      <td>331.76</td>\n",
       "      <td>558.90</td>\n",
       "      <td>635.54</td>\n",
       "      <td>0.12</td>\n",
       "      <td>801.16</td>\n",
       "      <td>811.17</td>\n",
       "      <td>593.59</td>\n",
       "      <td>599.81</td>\n",
       "      <td>586.01</td>\n",
       "      <td>Mumbai</td>\n",
       "      <td>18.3</td>\n",
       "      <td>56.9</td>\n",
       "    </tr>\n",
       "  </tbody>\n",
       "</table>\n",
       "</div>"
      ],
      "text/plain": [
       "   Donut Estimator 1  Donut Area of cross section  \\\n",
       "0             317.61                       496.27   \n",
       "1             315.19                       538.85   \n",
       "2             317.44                       514.24   \n",
       "3             336.62                       562.98   \n",
       "4             331.76                       558.90   \n",
       "\n",
       "   Donut Area of circumference circle  \\\n",
       "0                              682.80   \n",
       "1                              645.77   \n",
       "2                              661.30   \n",
       "3                              709.35   \n",
       "4                              635.54   \n",
       "\n",
       "   Donut area of central hole / Donut Area of circumscribed circle  \\\n",
       "0                                               0.27                 \n",
       "1                                               0.17                 \n",
       "2                                               0.22                 \n",
       "3                                               0.20                 \n",
       "4                                               0.12                 \n",
       "\n",
       "   Donut  Estimator 2  Donut  Estimator 3  Donut  Estimator 4  \\\n",
       "0              818.25              788.89              567.20   \n",
       "1              800.65              798.97              560.37   \n",
       "2              795.79              801.74              579.30   \n",
       "3              888.29              862.33              596.66   \n",
       "4              801.16              811.17              593.59   \n",
       "\n",
       "   Donut  Estimator 5  Donut volume Estimator 6 Location  Donut Density  \\\n",
       "0              557.68                    579.17   Mumbai           14.3   \n",
       "1              561.20                    577.59   Mumbai           15.8   \n",
       "2              584.34                    575.06   Mumbai           16.3   \n",
       "3              588.34                    629.96   Mumbai           16.6   \n",
       "4              599.81                    586.01   Mumbai           18.3   \n",
       "\n",
       "   Donut volume  \n",
       "0          52.1  \n",
       "1          54.2  \n",
       "2          54.8  \n",
       "3          56.6  \n",
       "4          56.9  "
      ]
     },
     "execution_count": 40,
     "metadata": {},
     "output_type": "execute_result"
    }
   ],
   "source": [
    "train.head()"
   ]
  },
  {
   "cell_type": "code",
   "execution_count": 7,
   "metadata": {},
   "outputs": [
    {
     "data": {
      "text/plain": [
       "(749, 13)"
      ]
     },
     "execution_count": 7,
     "metadata": {},
     "output_type": "execute_result"
    }
   ],
   "source": [
    "train.shape"
   ]
  },
  {
   "cell_type": "markdown",
   "metadata": {},
   "source": [
    "check if null values exists"
   ]
  },
  {
   "cell_type": "code",
   "execution_count": 8,
   "metadata": {},
   "outputs": [
    {
     "data": {
      "text/plain": [
       "False"
      ]
     },
     "execution_count": 8,
     "metadata": {},
     "output_type": "execute_result"
    }
   ],
   "source": [
    "train.isnull().values.any()"
   ]
  },
  {
   "cell_type": "code",
   "execution_count": 9,
   "metadata": {},
   "outputs": [
    {
     "data": {
      "text/plain": [
       "False"
      ]
     },
     "execution_count": 9,
     "metadata": {},
     "output_type": "execute_result"
    }
   ],
   "source": [
    "test.isnull().values.any()"
   ]
  },
  {
   "cell_type": "code",
   "execution_count": 43,
   "metadata": {},
   "outputs": [],
   "source": [
    "train.drop('Donut ID',axis=1, inplace=True)"
   ]
  },
  {
   "cell_type": "code",
   "execution_count": 52,
   "metadata": {},
   "outputs": [
    {
     "name": "stdout",
     "output_type": "stream",
     "text": [
      "Donut Estimator 1\n"
     ]
    },
    {
     "name": "stderr",
     "output_type": "stream",
     "text": [
      "/usr/local/lib/python3.6/dist-packages/matplotlib/axes/_axes.py:6462: UserWarning: The 'normed' kwarg is deprecated, and has been replaced by the 'density' kwarg.\n",
      "  warnings.warn(\"The 'normed' kwarg is deprecated, and has been \"\n"
     ]
    },
    {
     "data": {
      "image/png": "[encoded data removed]",
      "text/plain": [
       "<Figure size 432x288 with 1 Axes>"
      ]
     },
     "metadata": {},
     "output_type": "display_data"
    },
    {
     "name": "stdout",
     "output_type": "stream",
     "text": [
      "Donut Area of cross section\n"
     ]
    },
    {
     "data": {
      "image/png": "[encoded data removed]",
      "text/plain": [
       "<Figure size 432x288 with 1 Axes>"
      ]
     },
     "metadata": {},
     "output_type": "display_data"
    },
    {
     "name": "stdout",
     "output_type": "stream",
     "text": [
      "Donut Area of circumference circle\n"
     ]
    },
    {
     "data": {
      "image/png": "[encoded data removed]",
      "text/plain": [
       "<Figure size 432x288 with 1 Axes>"
      ]
     },
     "metadata": {},
     "output_type": "display_data"
    },
    {
     "name": "stdout",
     "output_type": "stream",
     "text": [
      "Donut area of central hole / Donut Area of circumscribed circle\n"
     ]
    },
    {
     "data": {
      "image/png": "[encoded data removed]",
      "text/plain": [
       "<Figure size 432x288 with 1 Axes>"
      ]
     },
     "metadata": {},
     "output_type": "display_data"
    },
    {
     "name": "stdout",
     "output_type": "stream",
     "text": [
      "Donut  Estimator 2\n"
     ]
    },
    {
     "data": {
      "image/png": "[encoded data removed]",
      "text/plain": [
       "<Figure size 432x288 with 1 Axes>"
      ]
     },
     "metadata": {},
     "output_type": "display_data"
    },
    {
     "name": "stdout",
     "output_type": "stream",
     "text": [
      "Donut  Estimator 3\n"
     ]
    },
    {
     "data": {
      "image/png": "[encoded data removed]",
      "text/plain": [
       "<Figure size 432x288 with 1 Axes>"
      ]
     },
     "metadata": {},
     "output_type": "display_data"
    },
    {
     "name": "stdout",
     "output_type": "stream",
     "text": [
      "Donut  Estimator 4\n"
     ]
    },
    {
     "data": {
      "image/png": "[encoded data removed]",
      "text/plain": [
       "<Figure size 432x288 with 1 Axes>"
      ]
     },
     "metadata": {},
     "output_type": "display_data"
    },
    {
     "name": "stdout",
     "output_type": "stream",
     "text": [
      "Donut  Estimator 5\n"
     ]
    },
    {
     "data": {
      "image/png": "[encoded data removed]",
      "text/plain": [
       "<Figure size 432x288 with 1 Axes>"
      ]
     },
     "metadata": {},
     "output_type": "display_data"
    },
    {
     "name": "stdout",
     "output_type": "stream",
     "text": [
      "Donut volume Estimator 6\n"
     ]
    },
    {
     "data": {
      "image/png": "[encoded data removed]",
      "text/plain": [
       "<Figure size 432x288 with 1 Axes>"
      ]
     },
     "metadata": {},
     "output_type": "display_data"
    },
    {
     "name": "stdout",
     "output_type": "stream",
     "text": [
      "Location\n",
      "Donut Density\n"
     ]
    },
    {
     "data": {
      "image/png": "[encoded data removed]",
      "text/plain": [
       "<Figure size 432x288 with 1 Axes>"
      ]
     },
     "metadata": {},
     "output_type": "display_data"
    },
    {
     "name": "stdout",
     "output_type": "stream",
     "text": [
      "Donut volume\n"
     ]
    },
    {
     "data": {
      "image/png": "[encoded data removed]",
      "text/plain": [
       "<Figure size 432x288 with 1 Axes>"
      ]
     },
     "metadata": {},
     "output_type": "display_data"
    }
   ],
   "source": [
    "for item in train.columns.values:\n",
    "    print (item)\n",
    "    if item != 'Location': \n",
    "        num_bins = 10\n",
    "        plt.hist(train[item], num_bins, normed=1, facecolor='blue', alpha=0.5)\n",
    "        plt.show()"
   ]
  },
  {
   "cell_type": "markdown",
   "metadata": {},
   "source": [
    "### outlier detection"
   ]
  },
  {
   "cell_type": "code",
   "execution_count": 20,
   "metadata": {},
   "outputs": [
    {
     "data": {
      "text/plain": [
       "array(['Donut ID', 'Donut Estimator 1', 'Donut Area of cross section',\n",
       "       'Donut Area of circumference circle',\n",
       "       'Donut area of central hole / Donut Area of circumscribed circle',\n",
       "       'Donut  Estimator 2', 'Donut  Estimator 3', 'Donut  Estimator 4',\n",
       "       'Donut  Estimator 5', 'Donut volume Estimator 6', 'Location',\n",
       "       'Donut Density', 'Donut volume'], dtype=object)"
      ]
     },
     "execution_count": 20,
     "metadata": {},
     "output_type": "execute_result"
    }
   ],
   "source": [
    "train.columns.values"
   ]
  },
  {
   "cell_type": "code",
   "execution_count": 21,
   "metadata": {
    "scrolled": true
   },
   "outputs": [
    {
     "data": {
      "text/plain": [
       "{'whiskers': [<matplotlib.lines.Line2D at 0x7f00cefaa5f8>,\n",
       "  <matplotlib.lines.Line2D at 0x7f00cefaab38>],\n",
       " 'caps': [<matplotlib.lines.Line2D at 0x7f00cefaa518>,\n",
       "  <matplotlib.lines.Line2D at 0x7f00cf14fcc0>],\n",
       " 'boxes': [<matplotlib.lines.Line2D at 0x7f00cefaa4a8>],\n",
       " 'medians': [<matplotlib.lines.Line2D at 0x7f00cf14f320>],\n",
       " 'fliers': [<matplotlib.lines.Line2D at 0x7f00cf14feb8>],\n",
       " 'means': []}"
      ]
     },
     "execution_count": 21,
     "metadata": {},
     "output_type": "execute_result"
    },
    {
     "data": {
      "image/png": "[encoded data removed]",
      "text/plain": [
       "<Figure size 432x288 with 1 Axes>"
      ]
     },
     "metadata": {},
     "output_type": "display_data"
    }
   ],
   "source": [
    "plt.boxplot(train['Donut  Estimator 5'], 1)"
   ]
  },
  {
   "cell_type": "code",
   "execution_count": 44,
   "metadata": {
    "scrolled": true
   },
   "outputs": [
    {
     "data": {
      "text/plain": [
       "<matplotlib.axes._subplots.AxesSubplot at 0x7f00c66eb4e0>"
      ]
     },
     "execution_count": 44,
     "metadata": {},
     "output_type": "execute_result"
    },
    {
     "data": {
      "image/png": "[encoded data removed]",
      "text/plain": [
       "<Figure size 432x288 with 1 Axes>"
      ]
     },
     "metadata": {},
     "output_type": "display_data"
    }
   ],
   "source": [
    "#pd.options.display.mpl_style = 'default'\n",
    "train.boxplot()"
   ]
  },
  {
   "cell_type": "code",
   "execution_count": 45,
   "metadata": {
    "scrolled": true
   },
   "outputs": [
    {
     "data": {
      "text/plain": [
       "array([[<matplotlib.axes._subplots.AxesSubplot object at 0x7f00c659e9e8>,\n",
       "        <matplotlib.axes._subplots.AxesSubplot object at 0x7f00c65c5748>,\n",
       "        <matplotlib.axes._subplots.AxesSubplot object at 0x7f00c656dc50>],\n",
       "       [<matplotlib.axes._subplots.AxesSubplot object at 0x7f00c651c320>,\n",
       "        <matplotlib.axes._subplots.AxesSubplot object at 0x7f00c65439b0>,\n",
       "        <matplotlib.axes._subplots.AxesSubplot object at 0x7f00c65439e8>],\n",
       "       [<matplotlib.axes._subplots.AxesSubplot object at 0x7f00c649d710>,\n",
       "        <matplotlib.axes._subplots.AxesSubplot object at 0x7f00c64c5da0>,\n",
       "        <matplotlib.axes._subplots.AxesSubplot object at 0x7f00c6476470>],\n",
       "       [<matplotlib.axes._subplots.AxesSubplot object at 0x7f00c641db00>,\n",
       "        <matplotlib.axes._subplots.AxesSubplot object at 0x7f00c644f1d0>,\n",
       "        <matplotlib.axes._subplots.AxesSubplot object at 0x7f00c63f5860>]],\n",
       "      dtype=object)"
      ]
     },
     "execution_count": 45,
     "metadata": {},
     "output_type": "execute_result"
    },
    {
     "data": {
      "image/png": "[encoded data removed]",
      "text/plain": [
       "<Figure size 432x288 with 12 Axes>"
      ]
     },
     "metadata": {},
     "output_type": "display_data"
    }
   ],
   "source": [
    "train.hist()"
   ]
  },
  {
   "cell_type": "code",
   "execution_count": 76,
   "metadata": {},
   "outputs": [],
   "source": [
    "from sklearn.linear_model import LinearRegression\n",
    "from sklearn.model_selection import train_test_split"
   ]
  },
  {
   "cell_type": "code",
   "execution_count": 86,
   "metadata": {},
   "outputs": [],
   "source": [
    "train_x = train.drop(['Donut Density','Donut volume','Location'], axis=1)\n",
    "density_train_y = train['Donut Density']\n",
    "\n",
    "#train_x = train.drop(['Donut Density','Donut volume'], axis=1)\n",
    "volume_train_y = train['Donut volume']"
   ]
  },
  {
   "cell_type": "code",
   "execution_count": 87,
   "metadata": {
    "scrolled": true
   },
   "outputs": [
    {
     "data": {
      "text/plain": [
       "0    14.3\n",
       "1    15.8\n",
       "2    16.3\n",
       "3    16.6\n",
       "4    18.3\n",
       "Name: Donut Density, dtype: float64"
      ]
     },
     "execution_count": 87,
     "metadata": {},
     "output_type": "execute_result"
    }
   ],
   "source": [
    "density_train_y.head()"
   ]
  },
  {
   "cell_type": "markdown",
   "metadata": {},
   "source": [
    "### training for donut density"
   ]
  },
  {
   "cell_type": "code",
   "execution_count": 88,
   "metadata": {},
   "outputs": [],
   "source": [
    "x = train_x.values\n",
    "y = density_train_y.values"
   ]
  },
  {
   "cell_type": "code",
   "execution_count": 90,
   "metadata": {},
   "outputs": [
    {
     "data": {
      "text/plain": [
       "(749, 9)"
      ]
     },
     "execution_count": 90,
     "metadata": {},
     "output_type": "execute_result"
    }
   ],
   "source": [
    "x.shape"
   ]
  },
  {
   "cell_type": "code",
   "execution_count": 91,
   "metadata": {},
   "outputs": [],
   "source": [
    "xTrain, xTest, yTrain, yTest = train_test_split(x, y, test_size = 1/3, random_state = 0)"
   ]
  },
  {
   "cell_type": "code",
   "execution_count": 92,
   "metadata": {},
   "outputs": [
    {
     "data": {
      "text/plain": [
       "LinearRegression(copy_X=True, fit_intercept=True, n_jobs=1, normalize=False)"
      ]
     },
     "execution_count": 92,
     "metadata": {},
     "output_type": "execute_result"
    }
   ],
   "source": [
    "linearRegressor = LinearRegression()\n",
    "linearRegressor.fit(xTrain, yTrain)"
   ]
  },
  {
   "cell_type": "code",
   "execution_count": 93,
   "metadata": {},
   "outputs": [],
   "source": [
    "yPrediction = linearRegressor.predict(xTest)"
   ]
  },
  {
   "cell_type": "code",
   "execution_count": 97,
   "metadata": {},
   "outputs": [
    {
     "name": "stdout",
     "output_type": "stream",
     "text": [
      "47.06581008097469 %\n"
     ]
    }
   ],
   "source": [
    "accuracy = linearRegressor.score(xTest,yTest)\n",
    "print(accuracy*100,'%')"
   ]
  },
  {
   "cell_type": "code",
   "execution_count": null,
   "metadata": {},
   "outputs": [],
   "source": []
  }
 ],
 "metadata": {
  "kernelspec": {
   "display_name": "Python 3",
   "language": "python",
   "name": "python3"
  },
  "language_info": {
   "codemirror_mode": {
    "name": "ipython",
    "version": 3
   },
   "file_extension": ".py",
   "mimetype": "text/x-python",
   "name": "python",
   "nbconvert_exporter": "python",
   "pygments_lexer": "ipython3",
   "version": "3.6.8"
  }
 },
 "nbformat": 4,
 "nbformat_minor": 2
}
